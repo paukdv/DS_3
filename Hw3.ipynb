{
  "nbformat": 4,
  "nbformat_minor": 0,
  "metadata": {
    "colab": {
      "provenance": []
    },
    "kernelspec": {
      "name": "python3",
      "display_name": "Python 3"
    },
    "language_info": {
      "name": "python"
    }
  },
  "cells": [
    {
      "cell_type": "code",
      "source": [
        "import pandas as pd\n",
        "import numpy as np\n",
        "import matplotlib.pyplot as plt\n",
        "from sklearn.linear_model import LinearRegression"
      ],
      "metadata": {
        "id": "qMgnRVtcbj5o"
      },
      "execution_count": 103,
      "outputs": []
    },
    {
      "cell_type": "code",
      "source": [
        "df = pd.read_csv('Housing.csv')\n",
        "df.head()"
      ],
      "metadata": {
        "colab": {
          "base_uri": "https://localhost:8080/",
          "height": 224
        },
        "id": "t2YCpHLrb-Ey",
        "outputId": "4c0fa1e2-e440-4ed0-d214-81080cb495d4"
      },
      "execution_count": 104,
      "outputs": [
        {
          "output_type": "execute_result",
          "data": {
            "text/plain": [
              "      price  area  bedrooms  bathrooms  stories mainroad guestroom basement  \\\n",
              "0  13300000  7420         4          2        3      yes        no       no   \n",
              "1  12250000  8960         4          4        4      yes        no       no   \n",
              "2  12250000  9960         3          2        2      yes        no      yes   \n",
              "3  12215000  7500         4          2        2      yes        no      yes   \n",
              "4  11410000  7420         4          1        2      yes       yes      yes   \n",
              "\n",
              "  hotwaterheating airconditioning  parking prefarea furnishingstatus  \n",
              "0              no             yes        2      yes        furnished  \n",
              "1              no             yes        3       no        furnished  \n",
              "2              no              no        2      yes   semi-furnished  \n",
              "3              no             yes        3      yes        furnished  \n",
              "4              no             yes        2       no        furnished  "
            ],
            "text/html": [
              "\n",
              "  <div id=\"df-57430791-eb2d-4ebc-b5ca-040ae5f00391\" class=\"colab-df-container\">\n",
              "    <div>\n",
              "<style scoped>\n",
              "    .dataframe tbody tr th:only-of-type {\n",
              "        vertical-align: middle;\n",
              "    }\n",
              "\n",
              "    .dataframe tbody tr th {\n",
              "        vertical-align: top;\n",
              "    }\n",
              "\n",
              "    .dataframe thead th {\n",
              "        text-align: right;\n",
              "    }\n",
              "</style>\n",
              "<table border=\"1\" class=\"dataframe\">\n",
              "  <thead>\n",
              "    <tr style=\"text-align: right;\">\n",
              "      <th></th>\n",
              "      <th>price</th>\n",
              "      <th>area</th>\n",
              "      <th>bedrooms</th>\n",
              "      <th>bathrooms</th>\n",
              "      <th>stories</th>\n",
              "      <th>mainroad</th>\n",
              "      <th>guestroom</th>\n",
              "      <th>basement</th>\n",
              "      <th>hotwaterheating</th>\n",
              "      <th>airconditioning</th>\n",
              "      <th>parking</th>\n",
              "      <th>prefarea</th>\n",
              "      <th>furnishingstatus</th>\n",
              "    </tr>\n",
              "  </thead>\n",
              "  <tbody>\n",
              "    <tr>\n",
              "      <th>0</th>\n",
              "      <td>13300000</td>\n",
              "      <td>7420</td>\n",
              "      <td>4</td>\n",
              "      <td>2</td>\n",
              "      <td>3</td>\n",
              "      <td>yes</td>\n",
              "      <td>no</td>\n",
              "      <td>no</td>\n",
              "      <td>no</td>\n",
              "      <td>yes</td>\n",
              "      <td>2</td>\n",
              "      <td>yes</td>\n",
              "      <td>furnished</td>\n",
              "    </tr>\n",
              "    <tr>\n",
              "      <th>1</th>\n",
              "      <td>12250000</td>\n",
              "      <td>8960</td>\n",
              "      <td>4</td>\n",
              "      <td>4</td>\n",
              "      <td>4</td>\n",
              "      <td>yes</td>\n",
              "      <td>no</td>\n",
              "      <td>no</td>\n",
              "      <td>no</td>\n",
              "      <td>yes</td>\n",
              "      <td>3</td>\n",
              "      <td>no</td>\n",
              "      <td>furnished</td>\n",
              "    </tr>\n",
              "    <tr>\n",
              "      <th>2</th>\n",
              "      <td>12250000</td>\n",
              "      <td>9960</td>\n",
              "      <td>3</td>\n",
              "      <td>2</td>\n",
              "      <td>2</td>\n",
              "      <td>yes</td>\n",
              "      <td>no</td>\n",
              "      <td>yes</td>\n",
              "      <td>no</td>\n",
              "      <td>no</td>\n",
              "      <td>2</td>\n",
              "      <td>yes</td>\n",
              "      <td>semi-furnished</td>\n",
              "    </tr>\n",
              "    <tr>\n",
              "      <th>3</th>\n",
              "      <td>12215000</td>\n",
              "      <td>7500</td>\n",
              "      <td>4</td>\n",
              "      <td>2</td>\n",
              "      <td>2</td>\n",
              "      <td>yes</td>\n",
              "      <td>no</td>\n",
              "      <td>yes</td>\n",
              "      <td>no</td>\n",
              "      <td>yes</td>\n",
              "      <td>3</td>\n",
              "      <td>yes</td>\n",
              "      <td>furnished</td>\n",
              "    </tr>\n",
              "    <tr>\n",
              "      <th>4</th>\n",
              "      <td>11410000</td>\n",
              "      <td>7420</td>\n",
              "      <td>4</td>\n",
              "      <td>1</td>\n",
              "      <td>2</td>\n",
              "      <td>yes</td>\n",
              "      <td>yes</td>\n",
              "      <td>yes</td>\n",
              "      <td>no</td>\n",
              "      <td>yes</td>\n",
              "      <td>2</td>\n",
              "      <td>no</td>\n",
              "      <td>furnished</td>\n",
              "    </tr>\n",
              "  </tbody>\n",
              "</table>\n",
              "</div>\n",
              "    <div class=\"colab-df-buttons\">\n",
              "\n",
              "  <div class=\"colab-df-container\">\n",
              "    <button class=\"colab-df-convert\" onclick=\"convertToInteractive('df-57430791-eb2d-4ebc-b5ca-040ae5f00391')\"\n",
              "            title=\"Convert this dataframe to an interactive table.\"\n",
              "            style=\"display:none;\">\n",
              "\n",
              "  <svg xmlns=\"http://www.w3.org/2000/svg\" height=\"24px\" viewBox=\"0 -960 960 960\">\n",
              "    <path d=\"M120-120v-720h720v720H120Zm60-500h600v-160H180v160Zm220 220h160v-160H400v160Zm0 220h160v-160H400v160ZM180-400h160v-160H180v160Zm440 0h160v-160H620v160ZM180-180h160v-160H180v160Zm440 0h160v-160H620v160Z\"/>\n",
              "  </svg>\n",
              "    </button>\n",
              "\n",
              "  <style>\n",
              "    .colab-df-container {\n",
              "      display:flex;\n",
              "      gap: 12px;\n",
              "    }\n",
              "\n",
              "    .colab-df-convert {\n",
              "      background-color: #E8F0FE;\n",
              "      border: none;\n",
              "      border-radius: 50%;\n",
              "      cursor: pointer;\n",
              "      display: none;\n",
              "      fill: #1967D2;\n",
              "      height: 32px;\n",
              "      padding: 0 0 0 0;\n",
              "      width: 32px;\n",
              "    }\n",
              "\n",
              "    .colab-df-convert:hover {\n",
              "      background-color: #E2EBFA;\n",
              "      box-shadow: 0px 1px 2px rgba(60, 64, 67, 0.3), 0px 1px 3px 1px rgba(60, 64, 67, 0.15);\n",
              "      fill: #174EA6;\n",
              "    }\n",
              "\n",
              "    .colab-df-buttons div {\n",
              "      margin-bottom: 4px;\n",
              "    }\n",
              "\n",
              "    [theme=dark] .colab-df-convert {\n",
              "      background-color: #3B4455;\n",
              "      fill: #D2E3FC;\n",
              "    }\n",
              "\n",
              "    [theme=dark] .colab-df-convert:hover {\n",
              "      background-color: #434B5C;\n",
              "      box-shadow: 0px 1px 3px 1px rgba(0, 0, 0, 0.15);\n",
              "      filter: drop-shadow(0px 1px 2px rgba(0, 0, 0, 0.3));\n",
              "      fill: #FFFFFF;\n",
              "    }\n",
              "  </style>\n",
              "\n",
              "    <script>\n",
              "      const buttonEl =\n",
              "        document.querySelector('#df-57430791-eb2d-4ebc-b5ca-040ae5f00391 button.colab-df-convert');\n",
              "      buttonEl.style.display =\n",
              "        google.colab.kernel.accessAllowed ? 'block' : 'none';\n",
              "\n",
              "      async function convertToInteractive(key) {\n",
              "        const element = document.querySelector('#df-57430791-eb2d-4ebc-b5ca-040ae5f00391');\n",
              "        const dataTable =\n",
              "          await google.colab.kernel.invokeFunction('convertToInteractive',\n",
              "                                                    [key], {});\n",
              "        if (!dataTable) return;\n",
              "\n",
              "        const docLinkHtml = 'Like what you see? Visit the ' +\n",
              "          '<a target=\"_blank\" href=https://colab.research.google.com/notebooks/data_table.ipynb>data table notebook</a>'\n",
              "          + ' to learn more about interactive tables.';\n",
              "        element.innerHTML = '';\n",
              "        dataTable['output_type'] = 'display_data';\n",
              "        await google.colab.output.renderOutput(dataTable, element);\n",
              "        const docLink = document.createElement('div');\n",
              "        docLink.innerHTML = docLinkHtml;\n",
              "        element.appendChild(docLink);\n",
              "      }\n",
              "    </script>\n",
              "  </div>\n",
              "\n",
              "\n",
              "<div id=\"df-5d69e989-d327-43a0-891a-5e0f28f8beef\">\n",
              "  <button class=\"colab-df-quickchart\" onclick=\"quickchart('df-5d69e989-d327-43a0-891a-5e0f28f8beef')\"\n",
              "            title=\"Suggest charts\"\n",
              "            style=\"display:none;\">\n",
              "\n",
              "<svg xmlns=\"http://www.w3.org/2000/svg\" height=\"24px\"viewBox=\"0 0 24 24\"\n",
              "     width=\"24px\">\n",
              "    <g>\n",
              "        <path d=\"M19 3H5c-1.1 0-2 .9-2 2v14c0 1.1.9 2 2 2h14c1.1 0 2-.9 2-2V5c0-1.1-.9-2-2-2zM9 17H7v-7h2v7zm4 0h-2V7h2v10zm4 0h-2v-4h2v4z\"/>\n",
              "    </g>\n",
              "</svg>\n",
              "  </button>\n",
              "\n",
              "<style>\n",
              "  .colab-df-quickchart {\n",
              "      --bg-color: #E8F0FE;\n",
              "      --fill-color: #1967D2;\n",
              "      --hover-bg-color: #E2EBFA;\n",
              "      --hover-fill-color: #174EA6;\n",
              "      --disabled-fill-color: #AAA;\n",
              "      --disabled-bg-color: #DDD;\n",
              "  }\n",
              "\n",
              "  [theme=dark] .colab-df-quickchart {\n",
              "      --bg-color: #3B4455;\n",
              "      --fill-color: #D2E3FC;\n",
              "      --hover-bg-color: #434B5C;\n",
              "      --hover-fill-color: #FFFFFF;\n",
              "      --disabled-bg-color: #3B4455;\n",
              "      --disabled-fill-color: #666;\n",
              "  }\n",
              "\n",
              "  .colab-df-quickchart {\n",
              "    background-color: var(--bg-color);\n",
              "    border: none;\n",
              "    border-radius: 50%;\n",
              "    cursor: pointer;\n",
              "    display: none;\n",
              "    fill: var(--fill-color);\n",
              "    height: 32px;\n",
              "    padding: 0;\n",
              "    width: 32px;\n",
              "  }\n",
              "\n",
              "  .colab-df-quickchart:hover {\n",
              "    background-color: var(--hover-bg-color);\n",
              "    box-shadow: 0 1px 2px rgba(60, 64, 67, 0.3), 0 1px 3px 1px rgba(60, 64, 67, 0.15);\n",
              "    fill: var(--button-hover-fill-color);\n",
              "  }\n",
              "\n",
              "  .colab-df-quickchart-complete:disabled,\n",
              "  .colab-df-quickchart-complete:disabled:hover {\n",
              "    background-color: var(--disabled-bg-color);\n",
              "    fill: var(--disabled-fill-color);\n",
              "    box-shadow: none;\n",
              "  }\n",
              "\n",
              "  .colab-df-spinner {\n",
              "    border: 2px solid var(--fill-color);\n",
              "    border-color: transparent;\n",
              "    border-bottom-color: var(--fill-color);\n",
              "    animation:\n",
              "      spin 1s steps(1) infinite;\n",
              "  }\n",
              "\n",
              "  @keyframes spin {\n",
              "    0% {\n",
              "      border-color: transparent;\n",
              "      border-bottom-color: var(--fill-color);\n",
              "      border-left-color: var(--fill-color);\n",
              "    }\n",
              "    20% {\n",
              "      border-color: transparent;\n",
              "      border-left-color: var(--fill-color);\n",
              "      border-top-color: var(--fill-color);\n",
              "    }\n",
              "    30% {\n",
              "      border-color: transparent;\n",
              "      border-left-color: var(--fill-color);\n",
              "      border-top-color: var(--fill-color);\n",
              "      border-right-color: var(--fill-color);\n",
              "    }\n",
              "    40% {\n",
              "      border-color: transparent;\n",
              "      border-right-color: var(--fill-color);\n",
              "      border-top-color: var(--fill-color);\n",
              "    }\n",
              "    60% {\n",
              "      border-color: transparent;\n",
              "      border-right-color: var(--fill-color);\n",
              "    }\n",
              "    80% {\n",
              "      border-color: transparent;\n",
              "      border-right-color: var(--fill-color);\n",
              "      border-bottom-color: var(--fill-color);\n",
              "    }\n",
              "    90% {\n",
              "      border-color: transparent;\n",
              "      border-bottom-color: var(--fill-color);\n",
              "    }\n",
              "  }\n",
              "</style>\n",
              "\n",
              "  <script>\n",
              "    async function quickchart(key) {\n",
              "      const quickchartButtonEl =\n",
              "        document.querySelector('#' + key + ' button');\n",
              "      quickchartButtonEl.disabled = true;  // To prevent multiple clicks.\n",
              "      quickchartButtonEl.classList.add('colab-df-spinner');\n",
              "      try {\n",
              "        const charts = await google.colab.kernel.invokeFunction(\n",
              "            'suggestCharts', [key], {});\n",
              "      } catch (error) {\n",
              "        console.error('Error during call to suggestCharts:', error);\n",
              "      }\n",
              "      quickchartButtonEl.classList.remove('colab-df-spinner');\n",
              "      quickchartButtonEl.classList.add('colab-df-quickchart-complete');\n",
              "    }\n",
              "    (() => {\n",
              "      let quickchartButtonEl =\n",
              "        document.querySelector('#df-5d69e989-d327-43a0-891a-5e0f28f8beef button');\n",
              "      quickchartButtonEl.style.display =\n",
              "        google.colab.kernel.accessAllowed ? 'block' : 'none';\n",
              "    })();\n",
              "  </script>\n",
              "</div>\n",
              "    </div>\n",
              "  </div>\n"
            ]
          },
          "metadata": {},
          "execution_count": 104
        }
      ]
    },
    {
      "cell_type": "markdown",
      "source": [
        "# Напишіть функцію гіпотези лінійної регресії у векторному вигляді"
      ],
      "metadata": {
        "id": "-flF76l_bFgD"
      }
    },
    {
      "cell_type": "markdown",
      "source": [
        "### Linear Regression"
      ],
      "metadata": {
        "id": "TjHkk6glcKAl"
      }
    },
    {
      "cell_type": "code",
      "execution_count": 105,
      "metadata": {
        "id": "ZdlIE6ZGa9yU"
      },
      "outputs": [],
      "source": [
        "def h(w, X):\n",
        "    return np.dot(X, w)"
      ]
    },
    {
      "cell_type": "markdown",
      "source": [
        "# Створіть функцію для обчислення функції втрат у векторному вигляді"
      ],
      "metadata": {
        "id": "VGoA_aFnikx0"
      }
    },
    {
      "cell_type": "markdown",
      "source": [
        "### Loss function for multiple features"
      ],
      "metadata": {
        "id": "61mL2F2Ui8Op"
      }
    },
    {
      "cell_type": "code",
      "source": [
        "def loss_function(w, X, y):\n",
        "    n = len(y)\n",
        "    return np.sum((h(w, X) - y) ** 2) / (2 * n)"
      ],
      "metadata": {
        "id": "cFLcfQCpix30"
      },
      "execution_count": 106,
      "outputs": []
    },
    {
      "cell_type": "markdown",
      "source": [
        "# Реалізуйте один крок градієнтного спуску"
      ],
      "metadata": {
        "id": "E26ha58RjKur"
      }
    },
    {
      "cell_type": "markdown",
      "source": [
        "### Gradient descent for multiple features"
      ],
      "metadata": {
        "id": "t3ThoXW9jVni"
      }
    },
    {
      "cell_type": "code",
      "source": [
        "def grad_descent(X, y, num_iter, learning_rate=0.001, epsilon=0.0000000001):\n",
        "    n, m = X.shape\n",
        "    X = np.hstack((np.ones((n, 1)), X))\n",
        "    w = np.zeros(m + 1)\n",
        "    loss_history = []\n",
        "\n",
        "    for _ in range(num_iter):\n",
        "        loss = loss_function(w, X, y)\n",
        "        grad = np.dot(X.T, (h(w, X) - y)) / n\n",
        "        w -= learning_rate * grad\n",
        "        loss_history.append(loss)\n",
        "\n",
        "        if len(loss_history) > 1 and abs(loss_history[-2] - loss_history[-1]) < epsilon:\n",
        "            break\n",
        "\n",
        "    return w, loss_history"
      ],
      "metadata": {
        "id": "YbMPdWgRjQBd"
      },
      "execution_count": 107,
      "outputs": []
    },
    {
      "cell_type": "markdown",
      "source": [
        "# Знайдіть найкращі параметри для датасету прогнозуючу ціну на будинок залежно від площі, кількості ванних кімнат та кількості спалень"
      ],
      "metadata": {
        "id": "D1IIhJz5jtEz"
      }
    },
    {
      "cell_type": "markdown",
      "source": [
        "### Normalization"
      ],
      "metadata": {
        "id": "5ENxqpzR7UG7"
      }
    },
    {
      "cell_type": "code",
      "source": [
        "def normalization(data):\n",
        "    mean = np.mean(data)\n",
        "    value_range = np.max(data) - np.min(data)\n",
        "    return (data - mean) / value_range"
      ],
      "metadata": {
        "id": "LGPkLkqykY5T"
      },
      "execution_count": 108,
      "outputs": []
    },
    {
      "cell_type": "code",
      "source": [
        "norm = pd.DataFrame()\n",
        "norm['price'] = normalization(df['price'])\n",
        "norm['area'] = normalization(df['area'])\n",
        "norm['bedrooms'] = normalization(df['bedrooms'])\n",
        "norm['bathrooms'] = normalization(df['bathrooms'])"
      ],
      "metadata": {
        "id": "Bw0R0n_Dk6Cz"
      },
      "execution_count": 109,
      "outputs": []
    },
    {
      "cell_type": "markdown",
      "source": [
        "#### Prepare the data"
      ],
      "metadata": {
        "id": "-7OZ7x2OmGMy"
      }
    },
    {
      "cell_type": "code",
      "source": [
        "X = norm[['area', 'bedrooms', 'bathrooms']].values\n",
        "y = norm['price'].values"
      ],
      "metadata": {
        "id": "6L2knqBZmLQd"
      },
      "execution_count": 110,
      "outputs": []
    },
    {
      "cell_type": "markdown",
      "source": [
        "#### Run gradient descent"
      ],
      "metadata": {
        "id": "3XHlPYRLmV5M"
      }
    },
    {
      "cell_type": "code",
      "source": [
        "weights_gradient_descent, loss_history = grad_descent(X, y, 1000, learning_rate=0.1)\n"
      ],
      "metadata": {
        "id": "zMOfrtplmSdY"
      },
      "execution_count": 111,
      "outputs": []
    },
    {
      "cell_type": "markdown",
      "source": [
        "### Аналітичне рішення"
      ],
      "metadata": {
        "id": "80OIZ2HJnvb_"
      }
    },
    {
      "cell_type": "code",
      "source": [
        "# Додавання стовпця одиниць до матриці X для вільного члена\n",
        "X = np.hstack((np.ones((norm.shape[0], 1)), norm[['area', 'bedrooms', 'bathrooms']].values))\n",
        "\n",
        "# Вектор цільових значень\n",
        "y = norm['price'].values.reshape(-1, 1)\n",
        "\n",
        "# Використання формули найменших квадратів для знаходження ваг\n",
        "weights_analytical = np.linalg.inv(X.T @ X) @ X.T @ y"
      ],
      "metadata": {
        "id": "U0q_FRWCnuW-"
      },
      "execution_count": 112,
      "outputs": []
    },
    {
      "cell_type": "markdown",
      "source": [
        "#Sklearn"
      ],
      "metadata": {
        "id": "2L7yFROQm3xK"
      }
    },
    {
      "cell_type": "code",
      "source": [
        "model = LinearRegression()\n",
        "\n",
        "# Підготовка даних (X - фічі, y - цільова змінна)\n",
        "X = norm[['area', 'bedrooms', 'bathrooms']].values\n",
        "y = norm['price'].values\n",
        "\n",
        "model.fit(X, y)\n",
        "\n",
        "# Отримання вагів (коефіцієнтів) моделі\n",
        "weights_sklearn = [model.intercept_] + list(model.coef_)"
      ],
      "metadata": {
        "id": "HBLtZcxomywg"
      },
      "execution_count": 113,
      "outputs": []
    },
    {
      "cell_type": "code",
      "source": [
        "weights_gradient_descent"
      ],
      "metadata": {
        "colab": {
          "base_uri": "https://localhost:8080/"
        },
        "id": "uIBZmBwd28zk",
        "outputId": "7b42dbd1-ccc6-430f-faa2-ca29664aa7e6"
      },
      "execution_count": 114,
      "outputs": [
        {
          "output_type": "execute_result",
          "data": {
            "text/plain": [
              "array([4.84984122e-17, 4.34508269e-01, 1.88961979e-01, 3.53955428e-01])"
            ]
          },
          "metadata": {},
          "execution_count": 114
        }
      ]
    },
    {
      "cell_type": "markdown",
      "source": [
        "### Порівняйте отримані результати"
      ],
      "metadata": {
        "id": "d9D1igpIuKAk"
      }
    },
    {
      "cell_type": "code",
      "source": [
        "param_names = ['area', 'bedrooms', 'bathrooms']\n",
        "\n",
        "print(\"Порівняння ваг з градієнтного спуску, аналітичного рішення та Sklearn:\")\n",
        "for i, name in enumerate(param_names, start=1):\n",
        "    print(f\"{name}:\")\n",
        "    print(f\"  Градієнтний спуск: {weights_gradient_descent[i]}\")\n",
        "    analytical_weight_scalar = weights_analytical[i].item()\n",
        "    print(f\"  Аналітичне рішення: {analytical_weight_scalar}\")\n",
        "    sklearn_weight_scalar = weights_sklearn[i]\n",
        "    print(f\"  Sklearn: {sklearn_weight_scalar}\")\n",
        "    print()"
      ],
      "metadata": {
        "colab": {
          "base_uri": "https://localhost:8080/"
        },
        "id": "0Z3Ctbfbp9Tv",
        "outputId": "ecbe3004-b24c-40cd-be63-3358476be5be"
      },
      "execution_count": 127,
      "outputs": [
        {
          "output_type": "stream",
          "name": "stdout",
          "text": [
            "Порівняння ваг з градієнтного спуску, аналітичного рішення та Sklearn:\n",
            "area:\n",
            "  Градієнтний спуск: 0.4345082690098991\n",
            "  Аналітичне рішення: 0.4771426895812342\n",
            "  Sklearn: 0.4771426895812342\n",
            "\n",
            "bedrooms:\n",
            "  Градієнтний спуск: 0.18896197902857417\n",
            "  Аналітичне рішення: 0.17611256873124853\n",
            "  Sklearn: 0.17611256873124742\n",
            "\n",
            "bathrooms:\n",
            "  Градієнтний спуск: 0.3539554284984645\n",
            "  Аналітичне рішення: 0.36001285656908977\n",
            "  Sklearn: 0.3600128565690904\n",
            "\n"
          ]
        }
      ]
    },
    {
      "cell_type": "markdown",
      "source": [
        "#Візуалізація отриманих результатів"
      ],
      "metadata": {
        "id": "zf-z-0lB39Rq"
      }
    },
    {
      "cell_type": "code",
      "source": [
        "barWidth = 0.25\n",
        "r1 = np.arange(len(weights_gradient_descent_plot))\n",
        "r2 = [x + barWidth for x in r1]\n",
        "r3 = [x + barWidth for x in r2]\n",
        "\n",
        "plt.bar(r1, weights_gradient_descent_plot, color='blue', width=barWidth, edgecolor='gray', label='Градієнтний спуск')\n",
        "plt.bar(r2, weights_analytical_plot, color='red', width=barWidth, edgecolor='gray', label='Аналітичне рішення')\n",
        "plt.bar(r3, weights_sklearn_plot, color='green', width=barWidth, edgecolor='gray', label='Sklearn')\n",
        "\n",
        "# Додавання назв\n",
        "plt.xlabel('Параметри', fontweight='bold')\n",
        "plt.xticks([r + barWidth for r in range(len(weights_gradient_descent_plot))], param_names)\n",
        "\n",
        "plt.legend()\n",
        "plt.show()"
      ],
      "metadata": {
        "colab": {
          "base_uri": "https://localhost:8080/",
          "height": 454
        },
        "id": "JYakwm9s6nhh",
        "outputId": "b39f1abc-f244-48d2-979b-4c8a2531d012"
      },
      "execution_count": 128,
      "outputs": [
        {
          "output_type": "display_data",
          "data": {
            "text/plain": [
              "<Figure size 640x480 with 1 Axes>"
            ],
            "image/png": "[encoded data removed]"
          },
          "metadata": {}
        }
      ]
    }
  ]
}